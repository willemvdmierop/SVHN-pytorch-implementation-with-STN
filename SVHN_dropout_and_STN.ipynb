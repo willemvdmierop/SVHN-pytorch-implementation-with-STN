{
  "nbformat": 4,
  "nbformat_minor": 0,
  "metadata": {
    "colab": {
      "name": "SVHN dropout and STN.ipynb",
      "provenance": []
    },
    "kernelspec": {
      "name": "python3",
      "display_name": "Python 3"
    },
    "accelerator": "GPU"
  },
  "cells": [
    {
      "cell_type": "code",
      "metadata": {
        "id": "G3ithLF9umXO",
        "colab_type": "code",
        "outputId": "7b6e09b8-1dc8-423b-feca-018bdece06f4",
        "colab": {
          "base_uri": "https://localhost:8080/",
          "height": 122
        }
      },
      "source": [
        "from google.colab import drive\n",
        "drive.mount('/content/drive')"
      ],
      "execution_count": 0,
      "outputs": [
        {
          "output_type": "stream",
          "text": [
            "Go to this URL in a browser: https://accounts.google.com/o/oauth2/auth?client_id=947318989803-6bn6qk8qdgf4n4g3pfee6491hc0brc4i.apps.googleusercontent.com&redirect_uri=urn%3aietf%3awg%3aoauth%3a2.0%3aoob&response_type=code&scope=email%20https%3a%2f%2fwww.googleapis.com%2fauth%2fdocs.test%20https%3a%2f%2fwww.googleapis.com%2fauth%2fdrive%20https%3a%2f%2fwww.googleapis.com%2fauth%2fdrive.photos.readonly%20https%3a%2f%2fwww.googleapis.com%2fauth%2fpeopleapi.readonly\n",
            "\n",
            "Enter your authorization code:\n",
            "··········\n",
            "Mounted at /content/drive\n"
          ],
          "name": "stdout"
        }
      ]
    },
    {
      "cell_type": "code",
      "metadata": {
        "id": "o1KQ8-eV1PHk",
        "colab_type": "code",
        "colab": {}
      },
      "source": [
        "import torch\n",
        "import torchvision\n",
        "\n",
        "from torchvision import datasets, transforms\n",
        "import numpy as np\n",
        "import matplotlib.pyplot as plt\n",
        "import torch.nn as nn\n",
        "import torch.nn.functional as F\n",
        "import torch.optim as optim\n",
        "torch.set_printoptions(linewidth=120)\n",
        "import matplotlib.pyplot as mpimg\n",
        "\n",
        "from __future__ import print_function\n",
        "\n",
        "import os\n",
        "import pandas as pd\n",
        "from torch.autograd import Variable\n",
        "from scipy.io import loadmat\n",
        "\n",
        "import sys\n",
        "\n",
        "os.environ['TF_CPP_MIN_LOG_LEVEL'] = '3'"
      ],
      "execution_count": 0,
      "outputs": []
    },
    {
      "cell_type": "code",
      "metadata": {
        "id": "WeQrZBx3vNVi",
        "colab_type": "code",
        "outputId": "de0e8efa-af2e-48f4-f651-42e9081b9bf1",
        "colab": {
          "base_uri": "https://localhost:8080/",
          "height": 85
        }
      },
      "source": [
        "def load(path_imag):\n",
        "    data = loadmat(path_imag)\n",
        "    return data['X'], data['y']\n",
        "\n",
        "path = \"/content/drive/My Drive/Street_view_numbers\"\n",
        "filename_read_train = os.path.join(path, \"train_32x32.mat\")\n",
        "filename_read_test = os.path.join(path,\"test_32x32.mat\")\n",
        "\n",
        "X_train, y_train = load(filename_read_train)\n",
        "X_test, y_test = load(filename_read_test)\n",
        "\n",
        "#print(X_train.shape)\n",
        "\n",
        "\n",
        "print(\"x train data\",X_train.shape)\n",
        "print(\"y train data\",y_train.shape)\n",
        "#print(y_train)\n",
        "#the x train data needs to be an array of length 73257 if we want to concatenate\n",
        "#supporting notebook Numpy (programming and mathematics)\n",
        "print(\"x test data\", X_test.shape)\n",
        "print(\"y test data\", y_test.shape)\n",
        "#same for test data\n",
        "y_train[y_train == 10] = 0\n",
        "y_test[y_test == 10] = 0\n"
      ],
      "execution_count": 0,
      "outputs": [
        {
          "output_type": "stream",
          "text": [
            "x train data (32, 32, 3, 73257)\n",
            "y train data (73257, 1)\n",
            "x test data (32, 32, 3, 26032)\n",
            "y test data (26032, 1)\n"
          ],
          "name": "stdout"
        }
      ]
    },
    {
      "cell_type": "code",
      "metadata": {
        "id": "xqqDJeczvmvJ",
        "colab_type": "code",
        "colab": {}
      },
      "source": [
        "\n",
        "fac = 0.99 / 255\n",
        "add_fac = 0.01\n",
        "\n",
        "X_train = np.asfarray(X_train[:,:]) * fac + add_fac\n",
        "X_test = np.asfarray(X_test[:, :]) *fac + add_fac\n",
        "\n"
      ],
      "execution_count": 0,
      "outputs": []
    },
    {
      "cell_type": "code",
      "metadata": {
        "id": "FhsFD5rz3LFs",
        "colab_type": "code",
        "outputId": "f0cd92a7-3cfe-4ee5-f8fb-ccaf787ecfd2",
        "colab": {
          "base_uri": "https://localhost:8080/",
          "height": 51
        }
      },
      "source": [
        "print(X_train.dtype)\n",
        "print(y_train.dtype)"
      ],
      "execution_count": 0,
      "outputs": [
        {
          "output_type": "stream",
          "text": [
            "float64\n",
            "uint8\n"
          ],
          "name": "stdout"
        }
      ]
    },
    {
      "cell_type": "code",
      "metadata": {
        "id": "-JNnc3-tv76m",
        "colab_type": "code",
        "outputId": "fef72fc6-c2e1-49ef-be83-b84e88c52226",
        "colab": {
          "base_uri": "https://localhost:8080/",
          "height": 85
        }
      },
      "source": [
        "X_train = np.array(X_train,dtype= 'float32').T\n",
        "y_train = np.array(y_train,dtype= 'float32')\n",
        "print(X_train.dtype)\n",
        "print(y_train.dtype)\n",
        "X_test = np.array(X_test,dtype= 'float32').T\n",
        "y_test = np.array(y_test,dtype= 'float32')\n",
        "print(X_test.dtype)\n",
        "print(y_test.dtype)"
      ],
      "execution_count": 0,
      "outputs": [
        {
          "output_type": "stream",
          "text": [
            "float32\n",
            "float32\n",
            "float32\n",
            "float32\n"
          ],
          "name": "stdout"
        }
      ]
    },
    {
      "cell_type": "code",
      "metadata": {
        "id": "Yr7wYCn21V50",
        "colab_type": "code",
        "outputId": "5fb65a6a-90ea-4ed5-b69a-5d976c718f87",
        "colab": {
          "base_uri": "https://localhost:8080/",
          "height": 34
        }
      },
      "source": [
        "torch.cuda.is_available()"
      ],
      "execution_count": 0,
      "outputs": [
        {
          "output_type": "execute_result",
          "data": {
            "text/plain": [
              "True"
            ]
          },
          "metadata": {
            "tags": []
          },
          "execution_count": 7
        }
      ]
    },
    {
      "cell_type": "code",
      "metadata": {
        "id": "QokofqhgSK6V",
        "colab_type": "code",
        "outputId": "e51ec46f-0159-497c-8151-f644b6221334",
        "colab": {
          "base_uri": "https://localhost:8080/",
          "height": 51
        }
      },
      "source": [
        "y_train = y_train.reshape(73257,)\n",
        "print(y_train.shape)\n",
        "y_test = y_test.reshape(26032,)\n",
        "print(y_test.shape)"
      ],
      "execution_count": 0,
      "outputs": [
        {
          "output_type": "stream",
          "text": [
            "(73257,)\n",
            "(26032,)\n"
          ],
          "name": "stdout"
        }
      ]
    },
    {
      "cell_type": "code",
      "metadata": {
        "id": "lcXwn0PC26u5",
        "colab_type": "code",
        "outputId": "bd6d910d-0d19-4e8e-d1e4-8155680e92f8",
        "colab": {
          "base_uri": "https://localhost:8080/",
          "height": 153
        }
      },
      "source": [
        "#we make tensors and assign them to gpu\n",
        "#train images\n",
        "Train_images_tensor = torch.tensor(X_train)\n",
        "Train_images_tensor = Train_images_tensor.cuda()\n",
        "print(\"train images device\",Train_images_tensor.device, \"type\", \n",
        "      Train_images_tensor.dtype)\n",
        "print(\"train images tensor shape\",Train_images_tensor.shape)\n",
        "#test images\n",
        "Test_images_tensor = torch.tensor(X_test)\n",
        "Test_images_tensor = Test_images_tensor.cuda()\n",
        "print(\"test images device\",Test_images_tensor.device, \"type\", \n",
        "      Test_images_tensor.dtype)\n",
        "print(\"test images tensor shape\",Test_images_tensor.shape)\n",
        "#train labels\n",
        "Train_labels_tensor = torch.tensor(y_train)\n",
        "Train_labels_tensor = Train_labels_tensor.cuda()\n",
        "print(\"train labels device\",Train_labels_tensor.device, \"type\", \n",
        "      Train_labels_tensor.dtype)\n",
        "print(\"train labels tensor shape\",Train_labels_tensor.shape)\n",
        "#test labels one hot\n",
        "Test_labels_tensor = torch.tensor(y_test)\n",
        "Test_labels_tensor = Test_labels_tensor.cuda()\n",
        "print(\"test labels device\",Test_labels_tensor.device, \"type\",\n",
        "      Test_labels_tensor.dtype)\n",
        "print(\"test labels tensor shape\",Test_labels_tensor.shape)"
      ],
      "execution_count": 0,
      "outputs": [
        {
          "output_type": "stream",
          "text": [
            "train images device cuda:0 type torch.float32\n",
            "train images tensor shape torch.Size([73257, 3, 32, 32])\n",
            "test images device cuda:0 type torch.float32\n",
            "test images tensor shape torch.Size([26032, 3, 32, 32])\n",
            "train labels device cuda:0 type torch.float32\n",
            "train labels tensor shape torch.Size([73257])\n",
            "test labels device cuda:0 type torch.float32\n",
            "test labels tensor shape torch.Size([26032])\n"
          ],
          "name": "stdout"
        }
      ]
    },
    {
      "cell_type": "code",
      "metadata": {
        "id": "vps5XkLFmBd2",
        "colab_type": "code",
        "colab": {}
      },
      "source": [
        "class STN(nn.Module):\n",
        "  def __init__ (self, input_channels, dimensions, kernel_size, dropout_prob, dropout = False):\n",
        "    super(STN, self).__init__()\n",
        "    self.height, self.width = dimensions\n",
        "    self.input_channels = input_channels\n",
        "    self.kernel_size = kernel_size\n",
        "    self.dropout = dropout\n",
        "    self.dropout_probability = dropout_prob\n",
        "\n",
        "    #this creates the localization network, input channels svhn is 3 emotion input channels = 1\n",
        "    self.conv1 = nn.Conv2d(in_channels = self.input_channels, out_channels= 4, kernel_size= self.kernel_size)\n",
        "    self.conv2 = nn.Conv2d(in_channels = 4,out_channels = 8, kernel_size= self.kernel_size)\n",
        "\n",
        "    self.fc1 = nn.Linear(8*5*5, 300)\n",
        "    self.fc2 = nn.Linear(300, 150)\n",
        "    self.fc3 = nn.Linear(150, 6) #output is 6 bc affine matrix is size 2*3 see paper\n",
        "\n",
        "  #we now forward the stn module output is matrix 2x3 and input is feature map\n",
        "  def forward(self, x):\n",
        "\n",
        "    batch_images = x\n",
        "    x = F.relu(self.conv1(x))\n",
        "    x = F.max_pool2d(x,2)\n",
        "    x = F.relu(self.conv2(x))\n",
        "    x = F.max_pool2d(x,2)\n",
        "\n",
        "\n",
        "    #print(\"output size after convolutional layers:{}\".format(x.size()))\n",
        "    #if the figures shapes are square we can use this as input\n",
        "    size_conv_layer = x.size(-1)\n",
        "    x = x.view(-1, 8*size_conv_layer*size_conv_layer)\n",
        "\n",
        "    if self.dropout:\n",
        "      x = F.dropout(self.fc1(x), p = self.dropout_probability)\n",
        "      x = F.dropout(self.fc2(x), p = self.dropout_probability)\n",
        "      x = F.dropout(self.fc3(x), p = self.dropout_probability)\n",
        "    else:\n",
        "      x = self.fc1(x)\n",
        "      x = self.fc2(x)\n",
        "      x = self.fc3(x)\n",
        "\n",
        "    #print(\"after linear layers size:{}\".format(x.size()))\n",
        "    #but we need a 2x3 matrix\n",
        "    x = x.view(-1, 2,3) \n",
        "    #print(\"after reshape:{}\".format(x.size()))\n",
        "    theta = x\n",
        "    # tensors are to be laid out as C x H x W (channels, height, and width, respectively)\n",
        "    affine_grid = F.affine_grid(theta,torch.Size((x.size(0), self.input_channels, self.height, self.width)))\n",
        "    #print(\"batch images size\", batch_images.size(0))\n",
        "    assert(affine_grid.size(0) == batch_images.size(0)) # \n",
        "    region = F.grid_sample(batch_images, affine_grid)\n",
        "    #print(\"region of interes\", region.size())\n",
        "    return region, affine_grid"
      ],
      "execution_count": 0,
      "outputs": []
    },
    {
      "cell_type": "code",
      "metadata": {
        "id": "qalb_aFw0Q1T",
        "colab_type": "code",
        "colab": {}
      },
      "source": [
        "class Network(nn.Module):\n",
        "  def __init__(self, dropout_prob = 0.5 , dropout = False):\n",
        "    super(Network, self).__init__() #we now have a network class that has all\n",
        "    #the attributes of the pytorch nn module class\n",
        "    self.dropout = dropout\n",
        "    self.dropout_probability = dropout_prob\n",
        "    self.kern_size_stn = 4\n",
        "    self.dim = (32,32)\n",
        "    self.channels = 3\n",
        "\n",
        "    self.Spatial_Transform = STN(self.channels,self.dim,self.kern_size_stn, self.dropout_probability, dropout =self.dropout)\n",
        "\n",
        "    self.conv1 = nn.Conv2d(in_channels= 3, out_channels = 6, kernel_size= 5) #in channels = 3 bc RGB\n",
        "    #kernel_size sets the filter size\n",
        "    self.conv2 = nn.Conv2d(in_channels = 6, out_channels = 12, kernel_size = 5)\n",
        "    #fc = fully connected\n",
        "\n",
        "    self.fc1 = nn.Linear(in_features = 12*5*5, out_features = 400)\n",
        "    self.fc2 = nn.Linear(in_features = 400, out_features = 150)\n",
        "    self.fc3 = nn.Linear(in_features = 150, out_features = 75)\n",
        "    #self.fc4 = nn.Linear(in_features = 100, out_features = 50)\n",
        "    self.out = nn.Linear(in_features = 75, out_features = 10)\n",
        "\n",
        "  def forward(self, tensortje):\n",
        "    #input layer\n",
        "    x = tensortje\n",
        "    region, affine_grid = self.Spatial_Transform(x)\n",
        "    # first hidden conv layer\n",
        "    t = self.conv1(region) \n",
        "    t = F.relu(t)\n",
        "    t = F.max_pool2d(t, kernel_size = 2, stride = 2) \n",
        "    # second hidden conv\n",
        "    t = self.conv2(t)\n",
        "    t = F.relu(t)\n",
        "    t = F.max_pool2d(t, kernel_size = 2, stride = 2)\n",
        "\n",
        "    #print(\"size output layers conv\", t.size(-1))\n",
        "    x = t.size(-1)\n",
        "    t = t.reshape(-1, 12*x*x)\n",
        "    if self.dropout:\n",
        "      #hidden layer\n",
        "      t = F.dropout(self.fc1(t), p = self.dropout_probability)\n",
        "      t = F.dropout(self.fc2(t), p = self.dropout_probability)\n",
        "      t = F.dropout(self.fc3(t), p = self.dropout_probability)\n",
        "      #t = F.dropout(self.fc4(t), p = self.dropout_probability)\n",
        "    else:\n",
        "      t = self.fc1(t)\n",
        "      t = self.fc2(t)\n",
        "      t = self.fc3(t)\n",
        "      #t = self.fc4(t)\n",
        "\n",
        "    t = self.out(t)\n",
        "    return t"
      ],
      "execution_count": 0,
      "outputs": []
    },
    {
      "cell_type": "code",
      "metadata": {
        "id": "MByOMKA5-Sew",
        "colab_type": "code",
        "colab": {}
      },
      "source": [
        "batch_size = 100\n",
        "\n",
        "train = torch.utils.data.TensorDataset(Train_images_tensor,\n",
        "                                       Train_labels_tensor)\n",
        "test = torch.utils.data.TensorDataset(Test_images_tensor,\n",
        "                                      Test_labels_tensor)\n",
        "train_loader = torch.utils.data.DataLoader(train, batch_size = batch_size, \n",
        "                                           shuffle = False)\n",
        "test_loader = torch.utils.data.DataLoader(test, batch_size = batch_size, \n",
        "                                          shuffle = False)"
      ],
      "execution_count": 0,
      "outputs": []
    },
    {
      "cell_type": "code",
      "metadata": {
        "id": "01aQVUalP-yX",
        "colab_type": "code",
        "colab": {}
      },
      "source": [
        "def get_num_correct(preds, labels):\n",
        "  return preds.argmax(dim = 1).eq(labels).sum().item()"
      ],
      "execution_count": 0,
      "outputs": []
    },
    {
      "cell_type": "code",
      "metadata": {
        "id": "9GF9MTl7UkRY",
        "colab_type": "code",
        "outputId": "4bf2b492-b4b6-4040-e402-a022d6e8d4a3",
        "colab": {
          "base_uri": "https://localhost:8080/",
          "height": 989
        }
      },
      "source": [
        "\n",
        "\n",
        "import time\n",
        "network = Network(dropout= False, dropout_prob= 0.02) ## dropout is false\n",
        "network.cuda()\n",
        "\n",
        "accuracy_list = []\n",
        "epoch_list = []\n",
        "loss_list = []\n",
        "accuracy_list_test = []\n",
        "loss_list_test = []\n",
        "\n",
        "error = nn.CrossEntropyLoss()\n",
        "optimizer = optim.Adam(network.parameters(), lr = 0.0001)\n",
        "epochs = 501\n",
        "start = time.time()\n",
        "# network.parameters returns all the weights\n",
        "for epoch in range(epochs):\n",
        "  total_loss = 0\n",
        "  total_correct = 0\n",
        "  total_loss_test = 0\n",
        "  total_correct_test = 0\n",
        "  for batch in train_loader:\n",
        "    images, labels = batch\n",
        "    preds = network(images) # pass the batch\n",
        "    loss = F.cross_entropy(preds, labels.type(torch.LongTensor).cuda()) \n",
        "\n",
        "    optimizer.zero_grad() # pytorch accumulates gradients so we have to zero \n",
        "    #gradients before we update the gradients zero_grad doenst work zero_grad()!\n",
        "    loss.backward()\n",
        "    optimizer.step()\n",
        "    total_loss += loss.item()\n",
        "    total_correct += get_num_correct(preds, labels)\n",
        "    accuracy = total_correct/ len(train)\n",
        "  for test_batch in test_loader:\n",
        "    images, labels = test_batch\n",
        "    preds = network(images)\n",
        "    loss = F.cross_entropy(preds, labels.type(torch.LongTensor).cuda())\n",
        "    total_loss_test += loss.item()\n",
        "    total_correct_test += get_num_correct(preds, labels)\n",
        "    accuracy_test = total_correct_test/ len(test)\n",
        "\n",
        "  loss_list_test.append(total_loss_test)\n",
        "  accuracy_list_test.append(accuracy_test)\n",
        "  loss_list.append(total_loss)\n",
        "  accuracy_list.append(accuracy)\n",
        "  epoch_list.append(epoch)\n",
        "  if epoch % 20 == 0:\n",
        "    print( \"epoch:\", epoch, \"loss\", total_loss, \"Accuracy: \", accuracy, \"%\", \" Test loss\", total_loss_test, \"Accuracy Test: \", accuracy_test, \"%\")\n",
        "    print(\"Time trained: \" , round((time.time() - start)/60, 2 ))\n"
      ],
      "execution_count": 0,
      "outputs": [
        {
          "output_type": "stream",
          "text": [
            "/usr/local/lib/python3.6/dist-packages/torch/nn/functional.py:2751: UserWarning: Default grid_sample and affine_grid behavior will be changed to align_corners=False from 1.4.0. See the documentation of grid_sample for details.\n",
            "  warnings.warn(\"Default grid_sample and affine_grid behavior will be changed \"\n",
            "/usr/local/lib/python3.6/dist-packages/torch/nn/functional.py:2693: UserWarning: Default grid_sample and affine_grid behavior will be changed to align_corners=False from 1.4.0. See the documentation of grid_sample for details.\n",
            "  warnings.warn(\"Default grid_sample and affine_grid behavior will be changed \"\n"
          ],
          "name": "stderr"
        },
        {
          "output_type": "stream",
          "text": [
            "epoch: 0 loss 1564.5595264434814 Accuracy:  0.2313226039832371 %  Test loss 498.2348314523697 Accuracy Test:  0.329940073755378 %\n",
            "Time trained:  0.09\n",
            "epoch: 20 loss 319.2094308882952 Accuracy:  0.8764759681668646 %  Test loss 132.84339283406734 Accuracy Test:  0.866779348494161 %\n",
            "Time trained:  1.85\n",
            "epoch: 40 loss 273.56170419603586 Accuracy:  0.8944401217631079 %  Test loss 121.54570880532265 Accuracy Test:  0.8800322679778734 %\n",
            "Time trained:  3.62\n",
            "epoch: 60 loss 255.45809204131365 Accuracy:  0.9015657206819826 %  Test loss 122.23634260892868 Accuracy Test:  0.8784572833435771 %\n",
            "Time trained:  5.37\n",
            "epoch: 80 loss 243.77186094224453 Accuracy:  0.9058246993461375 %  Test loss 119.84268184006214 Accuracy Test:  0.8816840811309158 %\n",
            "Time trained:  7.13\n",
            "epoch: 100 loss 235.37388966232538 Accuracy:  0.9095513056772732 %  Test loss 119.45239152014256 Accuracy Test:  0.8823371235402582 %\n",
            "Time trained:  8.89\n",
            "epoch: 120 loss 226.8266788944602 Accuracy:  0.9126090339489742 %  Test loss 118.3372123837471 Accuracy Test:  0.8840657652120467 %\n",
            "Time trained:  10.64\n",
            "epoch: 140 loss 220.94025003910065 Accuracy:  0.9150524864518067 %  Test loss 119.93363809585571 Accuracy Test:  0.8824523663183774 %\n",
            "Time trained:  12.4\n",
            "epoch: 160 loss 216.48406779766083 Accuracy:  0.9159807253914302 %  Test loss 120.25872732698917 Accuracy Test:  0.8846419791026429 %\n",
            "Time trained:  14.16\n",
            "epoch: 180 loss 212.71605989336967 Accuracy:  0.9175095895272807 %  Test loss 118.05369517207146 Accuracy Test:  0.8847572218807621 %\n",
            "Time trained:  15.92\n",
            "epoch: 200 loss 209.67183547466993 Accuracy:  0.9190521042357727 %  Test loss 117.09410454332829 Accuracy Test:  0.8872925629993854 %\n",
            "Time trained:  17.66\n",
            "epoch: 220 loss 207.20037746429443 Accuracy:  0.9193660674065277 %  Test loss 118.02763538062572 Accuracy Test:  0.8866779348494161 %\n",
            "Time trained:  19.41\n",
            "epoch: 240 loss 204.78943069279194 Accuracy:  0.9204308120725665 %  Test loss 119.28442120552063 Accuracy Test:  0.8860248924400738 %\n",
            "Time trained:  21.15\n",
            "epoch: 260 loss 201.703897126019 Accuracy:  0.9214819061659637 %  Test loss 121.94383570551872 Accuracy Test:  0.8845651505838967 %\n",
            "Time trained:  22.9\n",
            "epoch: 280 loss 199.69208039343357 Accuracy:  0.9224783979687948 %  Test loss 121.69153918325901 Accuracy Test:  0.8858712354025814 %\n",
            "Time trained:  24.66\n",
            "epoch: 300 loss 198.0320621728897 Accuracy:  0.9224374462508702 %  Test loss 121.00109177827835 Accuracy Test:  0.8860633066994469 %\n",
            "Time trained:  26.42\n",
            "epoch: 320 loss 196.3500416651368 Accuracy:  0.92324283003672 %  Test loss 121.07380099594593 Accuracy Test:  0.8849108789182545 %\n",
            "Time trained:  28.19\n",
            "epoch: 340 loss 194.8152333199978 Accuracy:  0.9242256712669097 %  Test loss 121.06583726406097 Accuracy Test:  0.8869084204056545 %\n",
            "Time trained:  29.95\n",
            "epoch: 360 loss 193.9858313202858 Accuracy:  0.9238298046603055 %  Test loss 120.9467109143734 Accuracy Test:  0.8869468346650277 %\n",
            "Time trained:  31.7\n",
            "epoch: 380 loss 192.4513584971428 Accuracy:  0.9245396344376646 %  Test loss 121.70935240387917 Accuracy Test:  0.8864474492931776 %\n",
            "Time trained:  33.46\n",
            "epoch: 400 loss 190.59877052903175 Accuracy:  0.9257818365480431 %  Test loss 123.53916215896606 Accuracy Test:  0.8844883220651506 %\n",
            "Time trained:  35.22\n",
            "epoch: 420 loss 189.54068861156702 Accuracy:  0.9260548480008737 %  Test loss 123.55568179488182 Accuracy Test:  0.8847188076213891 %\n",
            "Time trained:  36.98\n",
            "epoch: 440 loss 187.43216889724135 Accuracy:  0.927160544384837 %  Test loss 123.67146971821785 Accuracy Test:  0.8861017209588199 %\n",
            "Time trained:  38.75\n",
            "epoch: 460 loss 185.37802586704493 Accuracy:  0.927788470726347 %  Test loss 124.7001865953207 Accuracy Test:  0.8852566072526121 %\n",
            "Time trained:  40.5\n",
            "epoch: 480 loss 183.44831941649318 Accuracy:  0.9279249764527622 %  Test loss 123.32145524024963 Accuracy Test:  0.8882913337430854 %\n",
            "Time trained:  42.26\n",
            "epoch: 500 loss 182.1326859369874 Accuracy:  0.928989721118801 %  Test loss 123.37095055729151 Accuracy Test:  0.8884065765212047 %\n",
            "Time trained:  44.02\n"
          ],
          "name": "stdout"
        }
      ]
    },
    {
      "cell_type": "code",
      "metadata": {
        "id": "r_szPWvSKwY9",
        "colab_type": "code",
        "outputId": "ecc141cb-73ec-4798-8a1e-4fd7cb260e4c",
        "colab": {
          "base_uri": "https://localhost:8080/",
          "height": 173
        }
      },
      "source": [
        "path_name = \"networkSTN400\"\n",
        "torch.save(network, path_name)\n",
        "torch.save(network.state_dict(), path_name)"
      ],
      "execution_count": 0,
      "outputs": [
        {
          "output_type": "stream",
          "text": [
            "/usr/local/lib/python3.6/dist-packages/torch/serialization.py:292: UserWarning: Couldn't retrieve source code for container of type Network. It won't be checked for correctness upon loading.\n",
            "  \"type \" + obj.__name__ + \". It won't be checked \"\n",
            "/usr/local/lib/python3.6/dist-packages/torch/serialization.py:292: UserWarning: Couldn't retrieve source code for container of type STN. It won't be checked for correctness upon loading.\n",
            "  \"type \" + obj.__name__ + \". It won't be checked \"\n",
            "/usr/local/lib/python3.6/dist-packages/torch/serialization.py:292: UserWarning: Couldn't retrieve source code for container of type Conv2d. It won't be checked for correctness upon loading.\n",
            "  \"type \" + obj.__name__ + \". It won't be checked \"\n",
            "/usr/local/lib/python3.6/dist-packages/torch/serialization.py:292: UserWarning: Couldn't retrieve source code for container of type Linear. It won't be checked for correctness upon loading.\n",
            "  \"type \" + obj.__name__ + \". It won't be checked \"\n"
          ],
          "name": "stderr"
        }
      ]
    },
    {
      "cell_type": "code",
      "metadata": {
        "id": "gdhrM3Q-cOSk",
        "colab_type": "code",
        "outputId": "fb510373-ba51-4fcf-c175-5becc22ef5a9",
        "colab": {
          "base_uri": "https://localhost:8080/",
          "height": 573
        }
      },
      "source": [
        "plt.plot(epoch_list, loss_list, color = 'red', label = 'Train loss')\n",
        "plt.plot(epoch_list, loss_list_test, label = 'Test loss')\n",
        "plt.xlabel(\"Number of epochs\")\n",
        "plt.ylabel(\"Loss\")\n",
        "plt.title(\"Neural network: Loss vs epochs\")\n",
        "plt.legend( loc = 'upper right')\n",
        "plt.grid()\n",
        "plt.show()\n",
        "\n",
        "plt.plot(epoch_list, accuracy_list, color = \"red\", label = 'Train Accuracy')\n",
        "plt.plot(epoch_list, accuracy_list_test, label = 'Test Accuracy')\n",
        "plt.xlabel(\"Number of epochs\")\n",
        "plt.ylabel(\"Accuracy\")\n",
        "plt.title(\"Neural network: Accuracy vs epochs\")\n",
        "plt.legend( loc = 'upper left')\n",
        "plt.grid()\n",
        "plt.show()"
      ],
      "execution_count": 0,
      "outputs": [
        {
          "output_type": "display_data",
          "data": {
            "image/png": "[encoded data removed]",
            "text/plain": [
              "<Figure size 432x288 with 1 Axes>"
            ]
          },
          "metadata": {
            "tags": []
          }
        },
        {
          "output_type": "display_data",
          "data": {
            "image/png": "[encoded data removed]",
            "text/plain": [
              "<Figure size 432x288 with 1 Axes>"
            ]
          },
          "metadata": {
            "tags": []
          }
        }
      ]
    },
    {
      "cell_type": "code",
      "metadata": {
        "id": "8-r5UklcjGWj",
        "colab_type": "code",
        "outputId": "808c6da4-89b9-4c26-a586-4fa54283a49a",
        "colab": {
          "base_uri": "https://localhost:8080/",
          "height": 247
        }
      },
      "source": [
        "# network.parameters returns all the weights\n",
        "for epoch in range(epochs):\n",
        "  total_loss = 0\n",
        "  total_correct = 0\n",
        "  total_loss_test = 0\n",
        "  total_correct_test = 0\n",
        "  for batch in train_loader:\n",
        "    images, labels = batch\n",
        "    preds = network(images) # pass the batch\n",
        "    loss = F.cross_entropy(preds, labels.type(torch.LongTensor).cuda()) \n",
        "\n",
        "    optimizer.zero_grad() # pytorch accumulates gradients so we have to zero \n",
        "    #gradients before we update the gradients zero_grad doenst work zero_grad()!\n",
        "    loss.backward()\n",
        "    optimizer.step()\n",
        "    total_loss += loss.item()\n",
        "    total_correct += get_num_correct(preds, labels)\n",
        "    accuracy = total_correct/ len(train)\n",
        "  for test_batch in test_loader:\n",
        "    images, labels = test_batch\n",
        "    preds = network(images)\n",
        "    loss = F.cross_entropy(preds, labels.type(torch.LongTensor).cuda())\n",
        "    total_loss_test += loss.item()\n",
        "    total_correct_test += get_num_correct(preds, labels)\n",
        "    accuracy_test = total_correct_test/ len(test)\n",
        "\n",
        "  loss_list_test.append(total_loss_test)\n",
        "  accuracy_list_test.append(accuracy_test)\n",
        "  loss_list.append(total_loss)\n",
        "  accuracy_list.append(accuracy)\n",
        "  epoch_list.append(epoch)\n",
        "  print( \"epoch:\", epoch, \"loss\", total_loss, \"Accuracy: \", accuracy, \"%\", \" Test loss\", total_loss_test, \"Accuracy Test: \", accuracy_test, \"%\")\n",
        " "
      ],
      "execution_count": 0,
      "outputs": [
        {
          "output_type": "error",
          "ename": "NameError",
          "evalue": "ignored",
          "traceback": [
            "\u001b[0;31m---------------------------------------------------------------------------\u001b[0m",
            "\u001b[0;31mNameError\u001b[0m                                 Traceback (most recent call last)",
            "\u001b[0;32m<ipython-input-36-3b611da7b61b>\u001b[0m in \u001b[0;36m<module>\u001b[0;34m()\u001b[0m\n\u001b[0;32m----> 1\u001b[0;31m \u001b[0;32mfor\u001b[0m \u001b[0mepoch\u001b[0m \u001b[0;32min\u001b[0m \u001b[0mrange\u001b[0m\u001b[0;34m(\u001b[0m\u001b[0mepochs\u001b[0m\u001b[0;34m)\u001b[0m\u001b[0;34m:\u001b[0m\u001b[0;34m\u001b[0m\u001b[0;34m\u001b[0m\u001b[0m\n\u001b[0m\u001b[1;32m      2\u001b[0m   \u001b[0mtotal_loss\u001b[0m \u001b[0;34m=\u001b[0m \u001b[0;36m0\u001b[0m\u001b[0;34m\u001b[0m\u001b[0;34m\u001b[0m\u001b[0m\n\u001b[1;32m      3\u001b[0m   \u001b[0mtotal_correct\u001b[0m \u001b[0;34m=\u001b[0m \u001b[0;36m0\u001b[0m\u001b[0;34m\u001b[0m\u001b[0;34m\u001b[0m\u001b[0m\n\u001b[1;32m      4\u001b[0m   \u001b[0mtotal_loss_test\u001b[0m \u001b[0;34m=\u001b[0m \u001b[0;36m0\u001b[0m\u001b[0;34m\u001b[0m\u001b[0;34m\u001b[0m\u001b[0m\n\u001b[1;32m      5\u001b[0m   \u001b[0mtotal_correct_test\u001b[0m \u001b[0;34m=\u001b[0m \u001b[0;36m0\u001b[0m\u001b[0;34m\u001b[0m\u001b[0;34m\u001b[0m\u001b[0m\n",
            "\u001b[0;31mNameError\u001b[0m: name 'epochs' is not defined"
          ]
        }
      ]
    },
    {
      "cell_type": "code",
      "metadata": {
        "id": "rm8qX_cRcnos",
        "colab_type": "code",
        "colab": {}
      },
      "source": [
        ""
      ],
      "execution_count": 0,
      "outputs": []
    },
    {
      "cell_type": "code",
      "metadata": {
        "id": "iPEi8UQojLxd",
        "colab_type": "code",
        "outputId": "a93fe771-a720-4f29-89e0-ce8d603413bd",
        "colab": {
          "base_uri": "https://localhost:8080/",
          "height": 413
        }
      },
      "source": [
        "class Network(nn.Module):\n",
        "  def __init__(self):\n",
        "    super(Network, self).__init__() #we now have a network class that has all\n",
        "    #the attributes of the pytorch nn module class\n",
        "    self.conv1 = nn.Conv2d(in_channels= 3, out_channels = 6, kernel_size= 5)\n",
        "    #kernel_size sets the filter size\n",
        "    self.conv2 = nn.Conv2d(in_channels = 6, out_channels = 12, kernel_size = 5)\n",
        "    #fc = fully connected\n",
        "    self.fc1 = nn.Linear(in_features = 12*5*5, out_features = 300)\n",
        "    self.fc2 = nn.Linear(in_features = 300, out_features = 150)\n",
        "    self.fc3 = nn.Linear(in_features = 150, out_features = 100)\n",
        "    self.fc4 = nn.Linear(in_features = 100, out_features = 50)\n",
        "    self.out = nn.Linear(in_features = 50, out_features = 10)\n",
        "\n",
        "    self.localization = nn.Sequential(\n",
        "        nn.Conv2d(3, 8, kernel_size = 7),\n",
        "        nn.MaxPool2d(2, stride = 2),\n",
        "        nn.ReLU(True),\n",
        "        nn.Conv2d(8, 15, kernel_size= 6),\n",
        "        nn.MaxPool2d(2, stride = 2),\n",
        "        nn.ReLU(True)\n",
        "      )\n",
        "    \n",
        "    self.fc_loc = nn.Sequential(\n",
        "        nn.Linear(15*4*4,32),\n",
        "        nn.ReLU(True),\n",
        "        nn.Linear(32, 3*2)\n",
        "    )\n",
        "\n",
        "    #self.fc_loc[2].weight.data.zero()\n",
        "    #self.fc_loc[2].bias.data.copy_(torch.tensor[1, 0, 0, 0, 1, 0], dtype = torch.float)\n",
        "\n",
        "  def stn(self,x):\n",
        "    xs = self.localization(x)\n",
        "    xs = xs.view(-1, 15*4*4)\n",
        "    theta = self.fc_loc(xs)\n",
        "    theta = theta.view(-1,2,3)\n",
        "\n",
        "    grid = F.affine_grid(theta,x.size())\n",
        "    x = F.grid_sample(x,grid)\n",
        "\n",
        "    return x\n",
        "  def forward(self, tensor):\n",
        "    #input layer\n",
        "    t = self.stn(tensor)\n",
        "\n",
        "    # first hidden conv layer\n",
        "    t = self.conv1(t) \n",
        "    t = F.relu(t)\n",
        "    t = F.max_pool2d(t, kernel_size = 2, stride = 2) \n",
        "    # second hidden conv\n",
        "    t = self.conv2(t)\n",
        "    t = F.tanh(t)\n",
        "    t = F.max_pool2d(t, kernel_size = 2, stride = 2)\n",
        "    #hidden layer\n",
        "    t = t.reshape(-1, 12*5*5)\n",
        "    t = self.fc1(t)\n",
        "    t = F.relu(t)\n",
        "    #hidden layer\n",
        "    t = self.fc2(t)\n",
        "    t = F.relu(t)\n",
        "    #hidden layer\n",
        "    t = self.fc3(t)\n",
        "    t = F.relu(t)\n",
        "    #hidden layer\n",
        "    t = self.fc4(t)\n",
        "    t = F.relu(t)\n",
        "    #output layer\n",
        "    t = F.log_softmax(t, dim = 1)\n",
        "    return t"
      ],
      "execution_count": 0,
      "outputs": [
        {
          "output_type": "stream",
          "text": [
            "/usr/local/lib/python3.6/dist-packages/torch/nn/functional.py:2751: UserWarning: Default grid_sample and affine_grid behavior will be changed to align_corners=False from 1.4.0. See the documentation of grid_sample for details.\n",
            "  warnings.warn(\"Default grid_sample and affine_grid behavior will be changed \"\n",
            "/usr/local/lib/python3.6/dist-packages/torch/nn/functional.py:2693: UserWarning: Default grid_sample and affine_grid behavior will be changed to align_corners=False from 1.4.0. See the documentation of grid_sample for details.\n",
            "  warnings.warn(\"Default grid_sample and affine_grid behavior will be changed \"\n",
            "/usr/local/lib/python3.6/dist-packages/torch/nn/functional.py:1340: UserWarning: nn.functional.tanh is deprecated. Use torch.tanh instead.\n",
            "  warnings.warn(\"nn.functional.tanh is deprecated. Use torch.tanh instead.\")\n"
          ],
          "name": "stderr"
        },
        {
          "output_type": "error",
          "ename": "UnboundLocalError",
          "evalue": "ignored",
          "traceback": [
            "\u001b[0;31m---------------------------------------------------------------------------\u001b[0m",
            "\u001b[0;31mUnboundLocalError\u001b[0m                         Traceback (most recent call last)",
            "\u001b[0;32m<ipython-input-38-6e19a7933125>\u001b[0m in \u001b[0;36m<module>\u001b[0;34m()\u001b[0m\n\u001b[1;32m      1\u001b[0m \u001b[0;32mfor\u001b[0m \u001b[0mepoch\u001b[0m \u001b[0;32min\u001b[0m \u001b[0mrange\u001b[0m\u001b[0;34m(\u001b[0m\u001b[0;36m1\u001b[0m\u001b[0;34m,\u001b[0m \u001b[0;36m20\u001b[0m\u001b[0;34m+\u001b[0m\u001b[0;36m1\u001b[0m\u001b[0;34m)\u001b[0m\u001b[0;34m:\u001b[0m\u001b[0;34m\u001b[0m\u001b[0;34m\u001b[0m\u001b[0m\n\u001b[0;32m----> 2\u001b[0;31m   \u001b[0mtrain\u001b[0m\u001b[0;34m(\u001b[0m\u001b[0mepoch\u001b[0m\u001b[0;34m)\u001b[0m\u001b[0;34m\u001b[0m\u001b[0;34m\u001b[0m\u001b[0m\n\u001b[0m",
            "\u001b[0;32m<ipython-input-37-639ae0d36286>\u001b[0m in \u001b[0;36mtrain\u001b[0;34m(epoch)\u001b[0m\n\u001b[1;32m     23\u001b[0m     \u001b[0mloss\u001b[0m\u001b[0;34m.\u001b[0m\u001b[0mbackward\u001b[0m\u001b[0;34m(\u001b[0m\u001b[0;34m)\u001b[0m\u001b[0;34m\u001b[0m\u001b[0;34m\u001b[0m\u001b[0m\n\u001b[1;32m     24\u001b[0m     \u001b[0moptimizer\u001b[0m\u001b[0;34m.\u001b[0m\u001b[0mstep\u001b[0m\u001b[0;34m(\u001b[0m\u001b[0;34m)\u001b[0m\u001b[0;34m\u001b[0m\u001b[0;34m\u001b[0m\u001b[0m\n\u001b[0;32m---> 25\u001b[0;31m     \u001b[0mtotal_loss\u001b[0m \u001b[0;34m+=\u001b[0m \u001b[0mloss\u001b[0m\u001b[0;34m.\u001b[0m\u001b[0mitem\u001b[0m\u001b[0;34m(\u001b[0m\u001b[0;34m)\u001b[0m\u001b[0;34m\u001b[0m\u001b[0;34m\u001b[0m\u001b[0m\n\u001b[0m\u001b[1;32m     26\u001b[0m     \u001b[0mtotal_correct\u001b[0m \u001b[0;34m+=\u001b[0m \u001b[0mget_num_correct\u001b[0m\u001b[0;34m(\u001b[0m\u001b[0mpreds\u001b[0m\u001b[0;34m,\u001b[0m \u001b[0mlabels\u001b[0m\u001b[0;34m)\u001b[0m\u001b[0;34m\u001b[0m\u001b[0;34m\u001b[0m\u001b[0m\n\u001b[1;32m     27\u001b[0m     \u001b[0maccuracy\u001b[0m \u001b[0;34m=\u001b[0m \u001b[0mtotal_correct\u001b[0m\u001b[0;34m/\u001b[0m \u001b[0mlen\u001b[0m\u001b[0;34m(\u001b[0m\u001b[0mtrain\u001b[0m\u001b[0;34m)\u001b[0m\u001b[0;34m\u001b[0m\u001b[0;34m\u001b[0m\u001b[0m\n",
            "\u001b[0;31mUnboundLocalError\u001b[0m: local variable 'total_loss' referenced before assignment"
          ]
        }
      ]
    }
  ]
}